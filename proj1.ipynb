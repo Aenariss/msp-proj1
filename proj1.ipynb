{
 "cells": [
  {
   "cell_type": "markdown",
   "metadata": {},
   "source": [
    "# Projekt MSP1\n",
    "Cílem tohoto projektu je se seznámit s programovými nástroji využívaných ve statistice a osvojit si základní procedury. Projekt není primárně zaměřen na efektivitu využívání programového vybavení (i když úplně nevhodné konstrukce mohou mít vliv na hodnocení), ale nejvíce nás zajímají vaše statistické závěry a způsob vyhodnocení. Dbejte také na to, že každý graf musí splňovat nějaké podmínky - přehlednost, čitelnost, popisky.\n",
    "\n",
    "V projektu budete analyzovat časy běhu šesti různých konfigurací algoritmů. Ke každé konfiguraci vzniklo celkem 200 nezávislých běhů, jejichž logy máte k dispozici v souboru [logfiles.zip](logfiles.zip).\n",
    "\n",
    "Pokud nemáte rozchozené prostředí pro pro spouštění Jupyter notebooku, můžete využití službu [Google Colab](https://colab.google/). Jakákoliv spolupráce, sdílení řešení a podobně je zakázána!\n",
    "\n",
    "S případnými dotazy se obracejte na Vojtěcha Mrázka (mrazek@fit.vutbr.cz).\n",
    "\n",
    "__Odevzdání:__ tento soubor (není potřeba aby obsahoval výstupy skriptů) do neděle 22. 10. 2023 v IS VUT. Kontrola bude probíhat na Pythonu 3.10.12; neočekává se však to, že byste používali nějaké speciality a nekompatibilní knihovny. V případě nesouladu verzí a podobných problémů budete mít možnost reklamace a prokázání správnosti funkce. Bez vyplnění vašich komentářů a závěrů do označených buněk nebude projekt hodnocen!\n",
    "\n",
    "__Upozornění:__ nepřidávejte do notebooku další buňky, odpovídejte tam, kam se ptáme (textové komentáře do Markdown buněk)\n",
    "\n",
    "__Tip:__ před odevzdáním resetujte celý notebook a zkuste jej spustit od začátku. Zamezíte tak chybám krokování a editací, kdy výsledek z buňky na konci použijete na začátku."
   ]
  },
  {
   "cell_type": "markdown",
   "metadata": {},
   "source": [
    "__OTÁZKA K DOPLNĚNÍ:__\n",
    "\n",
    "_Jméno a login autora_ \n",
    "\n",
    "_Jméno_: __Vojtěch Fiala__ \n",
    "\n",
    "_Login_: __xfiala61__"
   ]
  },
  {
   "cell_type": "markdown",
   "metadata": {},
   "source": [
    "## Načtení potřebných knihoven\n",
    "Načtěte knihovny, které jsou nutné pro zpracování souborů a práci se statistickými funkcemi. Není dovoleno načítat jiné knihovny."
   ]
  },
  {
   "cell_type": "code",
   "execution_count": 1,
   "metadata": {},
   "outputs": [],
   "source": [
    "import numpy as np\n",
    "import pandas as pd\n",
    "import matplotlib.pyplot as plt\n",
    "import scipy.stats as stats\n",
    "import seaborn as sns\n",
    "from zipfile import ZipFile"
   ]
  },
  {
   "cell_type": "markdown",
   "metadata": {},
   "source": [
    "## Načtení dat do DataFrame\n",
    "Ze souboru `logfiles.zip` umístěném ve stejném adresáři načtěte data a vytvořte Pandas DataFrame.\n",
    "\n",
    "Z logu vás budou nejvíce zajímat řádky\n",
    "```\n",
    "Configuration: config6\n",
    "Run: 191\n",
    "Time of run: 53.298725254089774\n",
    "```\n",
    "\n",
    "Můžete využít následující kostru - je vhodné pracovat přímo se ZIP souborem. Jedinou nevýhodou je to, že vám bude vracet _byte_ objekt, který musíte přes funkci `decode` zpracovat."
   ]
  },
  {
   "cell_type": "code",
   "execution_count": 2,
   "metadata": {},
   "outputs": [],
   "source": [
    "def load_logfile(f) -> dict:\n",
    "    \"\"\"Load a logfile from a file-like object and return a dict with the data.\"\"\"\n",
    "    data = {\n",
    "        \"conf\": None,\n",
    "        \"run\": None,\n",
    "        \"time\": np.nan\n",
    "    }\n",
    "\n",
    "    for line in f:\n",
    "        line = line.decode(\"utf-8\")\n",
    "        # Urci co je za radek\n",
    "        if (line[0] == \"C\"): # Configuration\n",
    "            config_name = line.split(\" \")[1] # Druhe slovo je nazev konfigurace\n",
    "            if (config_name[-1] == '\\n'): # Posledni charakter je newline => odstran ho\n",
    "                config_name = config_name[:-1]\n",
    "            data[\"conf\"] = config_name\n",
    "            \n",
    "        elif (line[0] == \"R\"): # Run\n",
    "            run_number = line.split(\" \")[1] # Druhe slovo je cislo behu\n",
    "            if (run_number[-1] == '\\n'): # Posledni charakter je newline => odstran ho\n",
    "                run_number = run_number[:-1]\n",
    "            data[\"run\"] = int(run_number) # save it as a number\n",
    "            \n",
    "        elif (line[0] == \"T\"): # Time of run\n",
    "            time_of_run = line.split(\" \")[3] # Ctvrte slovo je doba behu\n",
    "            if (time_of_run[-1] == '\\n'): # Posledni charakter je newline => odstran ho\n",
    "                time_of_run = time_of_run[:-1]\n",
    "            data[\"time\"] = np.float64(time_of_run) # Uloz dobu behu jako numpy float\n",
    "        # Beru v potaz jenom validni radky, ktere ovsem muzou obsahovat neplatne hodnoty\n",
    "    return data\n",
    "\n",
    "data = []\n",
    "with ZipFile(\"logfiles.zip\") as zf:\n",
    "    for filename in zf.namelist():\n",
    "        with zf.open(filename, \"r\") as f:\n",
    "            data.append(load_logfile(f))\n",
    "df = pd.DataFrame(data)"
   ]
  },
  {
   "cell_type": "markdown",
   "metadata": {},
   "source": [
    "## Analýza a čištění dat\n",
    "Vhodným způsobem pro všechny konfigurace analyzujte časy běhů a pokud tam jsou, identifikujte hodnoty, které jsou chybné. "
   ]
  },
  {
   "cell_type": "code",
   "execution_count": 3,
   "metadata": {},
   "outputs": [
    {
     "name": "stdout",
     "output_type": "stream",
     "text": [
      "         conf  run     time\n",
      "9     config1    9  3600.00\n",
      "62    config1   62     0.01\n",
      "134   config1  134  3600.00\n",
      "145   config1  145     0.01\n",
      "148   config1  148  3600.00\n",
      "184   config1  184     0.01\n",
      "197   config1  197     0.01\n",
      "213   config2   13  3600.00\n",
      "240   config2   40  3600.00\n",
      "342   config2  142     0.01\n",
      "441   config3   41     0.01\n",
      "513   config3  113     0.01\n",
      "566   config3  166  3600.00\n",
      "584   config3  184     0.01\n",
      "587   config3  187     0.01\n",
      "695   config4   95  3600.00\n",
      "903   config5  103  3600.00\n",
      "918   config5  118     0.01\n",
      "980   config5  180  3600.00\n",
      "1056  config6   56     0.01\n",
      "1060  config6   60     0.01\n",
      "1076  config6   76  3600.00\n",
      "1110  config6  110  3600.00\n"
     ]
    },
    {
     "data": {
      "image/png": "[encoded data removed]",
      "text/plain": [
       "<Figure size 640x480 with 1 Axes>"
      ]
     },
     "metadata": {},
     "output_type": "display_data"
    }
   ],
   "source": [
    "# Boxplot pro vsechny konfigurace ukazuje outlying hodnoty\n",
    "s = sns.boxplot(data=df, x=\"conf\", y=\"time\", hue=\"conf\")\n",
    "\n",
    "# Vypocet Z-score pro urceni nevyhovujicich hodnot\n",
    "z_score = np.abs(stats.zscore(df[\"time\"]))\n",
    "\n",
    "# Z-score se pohybuje kolem 0.2, experimentalne zvolena hodnota 0.5 se ukazala jako vhodna pro pozdejsi odfiltrovnai nevhodnych dat\n",
    "threshold = 0.5\n",
    "outliers = df[\"time\"][z_score > threshold]\n",
    "\n",
    "# Vypis nevhodnych dat pro kontrolu\n",
    "print(df.iloc[outliers.index])"
   ]
  },
  {
   "cell_type": "markdown",
   "metadata": {},
   "source": [
    "__OTÁZKA K DOPLNĚNÍ:__\n",
    "\n",
    "_Objevily se nějaké chybné hodnoty? Proč tam jsou s ohledem na to, že se jedná o běhy algoritmů?_\n",
    "\n",
    "Objevily, nachází se při všech config hodnotách a jedná se o hodnoty 3600 a 0.01, což odpovídá v sekundách 1 hodině, respektive 0.01 vteřiny. \n",
    "Je možné, že 1 hodina byla zvolena jako \"cutoff\" hodnota a po uplynutí tohoto času byla činnost algoritmu automaticky ukončena, tzn. algoritmus se např. zasekl v nekonečné smyčce aniž by dosáhl ukončující podmínky.\n",
    "Nízká hodnota 0.01 pak může být dána např. tím, že data, nad kterými algoritmus prováděl operace, již požadované vlastnosti splňovala a algoritmus tedy jen \"zkontroloval\", že data splňují co mají a skončil téměř instantně."
   ]
  },
  {
   "cell_type": "markdown",
   "metadata": {},
   "source": [
    "Vyčistěte dataframe `df` tak, aby tam tyto hodnoty nebyly a ukažte znovu analýzu toho, že čištění dat bylo úspěšné. Odtud dále pracujte s vyčištěným datasetem."
   ]
  },
  {
   "cell_type": "code",
   "execution_count": 4,
   "metadata": {},
   "outputs": [
    {
     "data": {
      "image/png": "[encoded data removed]",
      "text/plain": [
       "<Figure size 640x480 with 1 Axes>"
      ]
     },
     "metadata": {},
     "output_type": "display_data"
    }
   ],
   "source": [
    "# Odstraneni nevhodnych dat\n",
    "df = df.drop(outliers.index)\n",
    "\n",
    "# Boxplot pro vsechny konfigurace. bez outlying hodnot\n",
    "s = sns.boxplot(data=df, x=\"conf\", y=\"time\", hue=\"conf\")"
   ]
  },
  {
   "cell_type": "markdown",
   "metadata": {},
   "source": [
    "## Deskriptivní popis hodnot\n",
    "Vypište pro jednotlivé konfigurace základní deskriptivní parametry času pro jednotlivé konfigurace.  \n",
    "\n",
    "__TIP__ pokud výsledky uložíte jako Pandas DataFrame, zobrazí se v tabulce."
   ]
  },
  {
   "cell_type": "code",
   "execution_count": 5,
   "metadata": {},
   "outputs": [
    {
     "name": "stdout",
     "output_type": "stream",
     "text": [
      "\n",
      "CONFIG: config1\n",
      "count    193.000000\n",
      "mean      99.590413\n",
      "std        9.386788\n",
      "min       73.802549\n",
      "25%       92.979469\n",
      "50%       99.865028\n",
      "75%      104.824724\n",
      "max      127.201692\n",
      "Name: time, dtype: float64\n",
      "\n",
      "CONFIG: config2\n",
      "count    197.000000\n",
      "mean     151.732975\n",
      "std       19.833198\n",
      "min       85.174653\n",
      "25%      137.995662\n",
      "50%      151.516091\n",
      "75%      163.802880\n",
      "max      227.054630\n",
      "Name: time, dtype: float64\n",
      "\n",
      "CONFIG: config3\n",
      "count    195.000000\n",
      "mean     138.616959\n",
      "std       19.867428\n",
      "min       90.567110\n",
      "25%      124.803901\n",
      "50%      138.678404\n",
      "75%      151.536291\n",
      "max      201.577616\n",
      "Name: time, dtype: float64\n",
      "\n",
      "CONFIG: config4\n",
      "count    199.000000\n",
      "mean     110.317016\n",
      "std       30.656816\n",
      "min       29.093401\n",
      "25%       88.742158\n",
      "50%      110.782732\n",
      "75%      130.665606\n",
      "max      188.971462\n",
      "Name: time, dtype: float64\n",
      "\n",
      "CONFIG: config5\n",
      "count    197.000000\n",
      "mean     183.659767\n",
      "std       28.729836\n",
      "min      107.283620\n",
      "25%      164.070091\n",
      "50%      183.843132\n",
      "75%      201.250693\n",
      "max      255.807973\n",
      "Name: time, dtype: float64\n",
      "\n",
      "CONFIG: config6\n",
      "count    196.000000\n",
      "mean     162.829359\n",
      "std       20.648193\n",
      "min      102.074892\n",
      "25%      149.917475\n",
      "50%      163.990098\n",
      "75%      177.730865\n",
      "max      208.795048\n",
      "Name: time, dtype: float64\n"
     ]
    }
   ],
   "source": [
    "# iterate through all unique configs\n",
    "for config in df[\"conf\"].unique():\n",
    "    # get descriptive paramters for each config\n",
    "    print(\"\\nCONFIG: \" + str(config))\n",
    "    print(df.loc[df[\"conf\"] == config][\"time\"].describe())"
   ]
  },
  {
   "cell_type": "markdown",
   "metadata": {},
   "source": [
    "__OTÁZKA K DOPLNĚNÍ:__\n",
    "\n",
    "_Okomentujte, co všechno můžeme z parametrů vyčíst._\n",
    "\n",
    "Z parametrů můžeme pro každou konfiguraci vyčíst průměrnou dobu běhu. medián doby běhu, standardní odchylku, nejnižší a nejvyšší hodnoty a 25% a 75% kvartily.\n",
    "\n",
    "Podle počtu výsledků spadajících k jednotlivým konfiguracím můžeme zjistit, že nejvíce nevalidních výsledků bylo při nastavení config1, jelikož má méně hodnot než ostatní - nejvíce hodnot bylo smazáno. \n",
    "\n",
    "Config1 měl nejnižší průměrný čas běhu (\\~99), config5 měl nejvyšší průměrný čas běhu (\\~183).\n",
    "\n",
    "Config5 měl nejvyšší nejkratší dobu běhu - \\~107. Config 4 měl ze všech nejrychlejší minimální dobu běhu - \\~29, ovšem v průměru je spíše pomalejší (110).\n",
    "\n",
    "Všechny konfigurace mají po smazaní krajních hodnot velmi podobný průměr i medián."
   ]
  },
  {
   "cell_type": "markdown",
   "metadata": {},
   "source": [
    "## Vizualizace\n",
    "Vizualizujte časy běhů algoritmů v jednom kompaktním grafu tak, aby byl zřejmý i rozptyl hodnot. Zvolte vhodný graf, který pak níže komentujte."
   ]
  },
  {
   "cell_type": "code",
   "execution_count": 6,
   "metadata": {},
   "outputs": [
    {
     "data": {
      "image/png": "[encoded data removed]",
      "text/plain": [
       "<Figure size 640x480 with 1 Axes>"
      ]
     },
     "metadata": {},
     "output_type": "display_data"
    }
   ],
   "source": [
    "s = sns.boxplot(data=df, x=\"conf\", y=\"time\", hue=\"conf\")"
   ]
  },
  {
   "cell_type": "markdown",
   "metadata": {},
   "source": [
    "__OTÁZKA K DOPLNĚNÍ:__\n",
    "\n",
    "_Okomentujte  výsledky z tabulky._\n",
    "\n",
    "Zvolil jsem krabicový graf, který ukazuje dobu běhu (osa Y) pro jednotlivé konfigurace (osa X).\n",
    "Z grafu lze vidět, že jak už ukazovali základní deskriptivní parametry, config1 má nejnižší medián běhu a většina jeho běhů je velmi podobná (je velmi malý rozdíl mezi 25. a 75. kvartilem). \n",
    "\n",
    "Config1 a config4 se zdají být podobné, kdy config4 dosahuje nižších hodnot, ale v průměru je pomalejší než config1.\n",
    "\n",
    "Nejvyšší průměrnou dobu běhu a hodnoty mezi 25. a 75. kvartilem má config5, což opět potvrzuje základní parametry."
   ]
  },
  {
   "cell_type": "markdown",
   "metadata": {},
   "source": [
    "## Určení efektivity konfigurací algoritmů\n",
    "Nás ale zajímá, jaká konfigurace je nejrychlejší. Z výše vykresleného grafu můžeme vyloučit některé konfigurace. Existuje tam však minimálně jedna dvojice, u které nedokážeme jednoznačně určit, která je lepší - pokud nebudeme porovnávat pouze extrémní hodnoty, které mohou být dané náhodou, ale celkově. Proto proveďte vhodný test významnosti - v následující části diskutujte zejména rozložení dat (i s odkazem na předchozí buňky, variabilitu vs polohu a podobně). Je nutné každý logický krok a výběry statistických funkcí komentovat. Můžete i přidat další buňky.\n",
    "\n",
    "Vužijte vhodnou funkci z knihovny `scipy.stats` a funkci poté __implementujte sami__ na základě základních matematických funkcí knihovny `numpy` případně i funkcí pro výpočet studentova rozložení v [scipy.stats](https://docs.scipy.org/doc/scipy/reference/generated/scipy.stats.t.html). Při vlastní implementaci není nutné se primárně soustředit na efektivitu výpočtu (není potřeba využít všechny funkce numpy, můžete použít normální cykly a podobně - v hodnocení však bude zahrnuta přehlednost a neměly by se objevit jasné chyby, jako je zvýšení třídy složitosti a podobně)."
   ]
  },
  {
   "cell_type": "markdown",
   "metadata": {},
   "source": [
    "__OTÁZKA K DOPLNĚNÍ:__\n",
    "\n",
    "_Jaká data budete zkoumat? Jaké mají rozložení a parametry (např. varianci) a jaký test použijete? Jaká je nulová hypotéza? Jak se liší variabilita a poloha vybraných konfigurací?_\n",
    "\n",
    "Zkoumaná data jsou časy běhu konfigurací 1 a 4.\n",
    "\n",
    "Konfigurace 1 má medián ~99, standardní odchylku ~9 a rozptyl ~88. Konfigurace 4 má medián ~110, standardní odchylku ~30 a rozptyl 939.\n",
    "\n",
    "Rozptyl u konfigurace 4 je výrazně vyšší, stejně jako std. odchylka, což potvrzuje i větši rozdíl mezi hodnotami 2. a 3. kvartilu.\n",
    "\n",
    "Data jsou na sobě vzájemně nezávislá a jak je popsáno výše, jejich variabilita se výrazně liší. Je také rozdílný počet vzorků v obou konfiguracích.\n",
    "\n",
    "Jako test významnosti použiju T-test, konkrétně Welchův T-test https://docs.scipy.org/doc/scipy/reference/generated/scipy.stats.ttest_ind.html, https://en.wikipedia.org/wiki/Welch%27s_t-test), který slouží právě k porovnání 2 nezávislých výsledků kterých je různý počet.\n",
    "\n",
    "Konfigurace 1 má, mimo extrémni hodnoty konfigurace 4, nižší časy (i nižší medián), což by mohlo svědčit o tom, že pokud nejsou stejné, je rychlejší - to bude alternativní hypotézou T-testu. Nulovou hypotézou bude, že konfigurace 1 a 4 jsou stejně rychlé."
   ]
  },
  {
   "cell_type": "code",
   "execution_count": 7,
   "metadata": {},
   "outputs": [
    {
     "name": "stdout",
     "output_type": "stream",
     "text": [
      "Odmitam nulovou hypotezu a akceptuju alternativni na hladine vyznamnosti 0.99\n"
     ]
    }
   ],
   "source": [
    "# Nulova hypoteza je \"config1 a config4 jsou stejne rychle\"\n",
    "# Alternativni hypoteza je \"config1 je rychlejsi nez config4\"\n",
    "config1_times = df[df[\"conf\"] == \"config1\"][\"time\"] # casy configu 1\n",
    "config4_times = df[df[\"conf\"] == \"config4\"][\"time\"] # casy configu 4\n",
    "\n",
    "result = stats.ttest_ind(config1_times, config4_times, equal_var=False)\n",
    "p_value = result.pvalue\n",
    "\n",
    "significance = 1 - 0.99 # 1% chyba\n",
    "if (p_value < significance):\n",
    "    print(\"Odmitam nulovou hypotezu a akceptuju alternativni na hladine vyznamnosti 0.99\")\n",
    "else:\n",
    "    print(\"Na hladine vyznamnosti 0.99 nelze nulovou hypotezu odmitnout\")\n"
   ]
  },
  {
   "cell_type": "markdown",
   "metadata": {},
   "source": [
    "__OTÁZKA K DOPLNĚNÍ:__\n",
    "\n",
    "_Jaký je závěr statistického testu?_\n",
    "\n",
    "Nulová hypotéza, tedy že jsou konfigurace 1 a 4 stejně rychlé, byla odmítnuta na hladině významnosti 0.99. Je tedy pravděpodobné, že nejsou stejně rychlé.\n",
    "\n",
    "Jejich podobnost je nejspíš čistě náhodná a na základě ostatních parametrů (standardní odchylka, medián, rozdíly mezi kvartily 25. a 75.) vychází, že konfigurace 1 je rychlejší než konfigurace 4."
   ]
  },
  {
   "cell_type": "code",
   "execution_count": 8,
   "metadata": {},
   "outputs": [
    {
     "name": "stdout",
     "output_type": "stream",
     "text": [
      "Scipy vypocitana p-hodnota:4.168682113989347e-06\n",
      "Manualne vypocitana p-hodnota: 4.168682113989347e-06\n",
      "Obe p-hodnoty jsou si rovny: ANO\n"
     ]
    }
   ],
   "source": [
    "# https://www.datanovia.com/en/lessons/types-of-t-test/unpaired-t-test/welch-t-test/\n",
    "\n",
    "m_A = np.mean(config1_times)\n",
    "m_B = np.mean(config4_times)\n",
    "S_A = np.std(config1_times, ddof=1) # scipy std pouziva ddof=1 jako default, pouziju totez\n",
    "S_B = np.std(config4_times, ddof=1)\n",
    "n_A = config1_times.shape[0]\n",
    "n_B = config4_times.shape[0]\n",
    "\n",
    "t = (m_A - m_B) / ((S_A ** 2 / n_A) + (S_B ** 2 / n_B))**0.5 # t-hodnota\n",
    "degrees_of_freedom = (((S_A**2 / n_A) + (S_B**2 / n_B))**2 / (S_A**4 / (n_A**2 * (n_A - 1)) + S_B**4 / (n_B**2 * (n_B - 1)))) # degres_of_freedom\n",
    "\n",
    "my_p_val = stats.t.sf(abs(t), df=degrees_of_freedom)*2 # Vypocet P-hodnoty z T-hodnoty a df\n",
    "\n",
    "print(\"Scipy vypocitana p-hodnota:\" + str(p_value))\n",
    "print(\"Manualne vypocitana p-hodnota: \" + str(my_p_val))\n",
    "print(\"Obe p-hodnoty jsou si rovny: \" + \"ANO\" if p_value == my_p_val else \"NE\")\n"
   ]
  }
 ],
 "metadata": {
  "kernelspec": {
   "display_name": "Python 3 (ipykernel)",
   "language": "python",
   "name": "python3"
  },
  "language_info": {
   "codemirror_mode": {
    "name": "ipython",
    "version": 3
   },
   "file_extension": ".py",
   "mimetype": "text/x-python",
   "name": "python",
   "nbconvert_exporter": "python",
   "pygments_lexer": "ipython3",
   "version": "3.10.13"
  }
 },
 "nbformat": 4,
 "nbformat_minor": 4
}
